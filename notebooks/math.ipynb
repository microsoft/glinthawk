{
 "cells": [
  {
   "cell_type": "code",
   "execution_count": 3,
   "metadata": {},
   "outputs": [],
   "source": [
    "import os\n",
    "import sys\n",
    "import numpy as np\n",
    "import matplotlib.pyplot as plt\n"
   ]
  },
  {
   "cell_type": "markdown",
   "metadata": {},
   "source": [
    "- $D$: `dim`\n",
    "- $D_{kv}$: `kv_dim`\n",
    "- $D_h$: `hidden_dim`\n",
    "- $B$: `batch_size`\n",
    "- $V$: `vocab_size`\n",
    "- $N_{h}$: `num_heads`\n",
    "- $L_{max}$ : `seq_len` (max)\n",
    "- $L$ : `seq_len` (current)\n",
    "\n",
    "## Pre-attention\n",
    "\n",
    "Operation | Parameters | Inputs | Outputs | Complexity (FLOPs) | Complexity (Memory)\n",
    "--- | --- | --- | --- | --- | ---\n",
    "`rmsnorm` | `rms_att_weights` ($D \\times 1$) | `state->x` ($B \\times D$) | `state->x` ($B \\times D$) | $\\mathcal{O}(BD)$ | $\\mathcal{O}(BD)$\n",
    "`matmul` | `Wq` ($D \\times D$) | `state->x` ($B \\times D$) | `state->q` ($B \\times D$) | $\\mathcal{O}(BD^2)$ | $\\mathcal{O}(D^2)$\n",
    "`matmul` | `Wkv` ($D \\times 2D_{kv}$) | `state->x` ($B \\times D$) | `state->kv` ($B \\times 2D_{kv}$) | $\\mathcal{O}(2BDD_{kv})$ | $\\mathcal{O}(2DD_{kv} + BD + 2BD_{kv})$\n",
    "Total | - | - | - | $\\mathcal{O}(BD^2)$ | $\\mathcal{O}(D^2)$\n",
    "\n",
    "## Attention\n",
    "\n",
    "Operation | Parameters | Inputs | Outputs | Complexity (FLOPs) | Complexity (Memory)\n",
    "--- | --- | --- | --- | --- | ---\n",
    "`rope` | `freq_cis_real` ($L_{max} \\times \\frac{D}{2}$)<br>`freq_cis_imag` ($S \\times \\frac{D}{2}$) | ?? | ??\n",
    "`matmul` | - | `state->q` ($B \\times D$)<br>`context` ($B \\times L \\times 2D_{kv}$) | `state->att` ($B \\times N_{h} \\times L$) | $\\mathcal{O}(BDL)$ | $\\mathcal{O}(BDL)$\n",
    "`softmax` | - | `state->att` ($B \\times N_{h} \\times L$) | `state->att` ($B \\times N_{h} \\times L$) | - | -\n",
    "`matmul` | - | `state->att` ($B \\times N_{h} \\times L$)<br> `context` ($B \\times L \\times 2D_{kv}$) | `state->x` ($B \\times D$) | $\\mathcal{O}(BDL)$ | $\\mathcal{O}(BDL)$\n",
    "Total | - | - | - | $\\mathcal{O}(BDL)$ | $\\mathcal{O}(BDL)$\n",
    "\n",
    "## Post-attention\n",
    "\n",
    "Operation | Parameters | Inputs | Outputs | Complexity (FLOPs) | Complexity (Memory)\n",
    "--- | --- | --- | --- | --- | ---\n",
    "`matmul` | `Wo` ($D \\times D$) | `state->x` ($B \\times D$) | `state->x` ($B \\times D$) | $\\mathcal{O}(BD^2)$ | $\\mathcal{O}(D^2)$\n",
    "`accum` | - | `state->x` ($B \\times D$) | `state->x` ($B \\times D$) | $\\mathcal{O}(BD)$ | $\\mathcal{O}(BD)$\n",
    "`rmsnorm` | `rms_ffn_weight` ($D \\times 1$) | `state->x` ($B \\times D$) | `state->x` ($B \\times D$) | $\\mathcal{O}(BD)$ | $\\mathcal{O}(BD)$\n",
    "`matmul` | `W1` ($D \\times D_h$) | `state->x` ($B \\times D$) | `state->h` ($B \\times D_h$) | $\\mathcal{O}(BD_hD)$ | $\\mathcal{O}(DD_h)$\n",
    "`matmul` | `W3` ($D \\times D_h$) | `state->x` ($B \\times D$) | `state->h` ($B \\times D_h$) | $\\mathcal{O}(BD_hD)$ | $\\mathcal{O}(DD_h)$\n",
    "`silu` | - | `state->h` ($B \\times D_h$) | `state->h` ($B \\times D_h$) | $\\mathcal{O}(BD_h)$ | $\\mathcal{O}(BD_h)$\n",
    "`matmul`| `W2` ($D_h \\times D$) | `state->h` ($B \\times D_h$) | `state->x` ($B \\times D$) | $\\mathcal{O}(BD_hD)$ | $\\mathcal{O}(DD_h)$\n",
    "`accum` | - | `state->x` ($B \\times D$) | `state->x` ($B \\times D$) | $\\mathcal{O}(BD)$ | $\\mathcal{O}(BD)$\n",
    "Total | - | - | - | $\\mathcal{O}(BD^2)$ | $\\mathcal{O}(D^2)$\n",
    "\n",
    "## Classify\n",
    "\n",
    "Operation | Parameters | Inputs | Outputs | Complexity (FLOPs) | Complexity (Memory)\n",
    "--- | --- | --- | --- | --- | ---\n",
    "`rmsnorm` | `rms_final_weight` ($D \\times 1$) | `state->x` ($B \\times D$) | `state->x` ($B \\times D$) | $\\mathcal{O}(BD)$ | $\\mathcal{O}(BD)$\n",
    "`matmul` | `wcls` ($D \\times V$) | `state->x` ($B \\times D$) | `state->logits` ($B \\times V$) | $\\mathcal{O}(BDV)$ | $\\mathcal{O}(DV)$\n",
    "Total | - | - | - | $\\mathcal{O}(BDV)$ | $\\mathcal{O}(DV)$\n"
   ]
  },
  {
   "cell_type": "markdown",
   "metadata": {},
   "source": []
  }
 ],
 "metadata": {
  "kernelspec": {
   "display_name": "glinthawk",
   "language": "python",
   "name": "python3"
  },
  "language_info": {
   "codemirror_mode": {
    "name": "ipython",
    "version": 3
   },
   "file_extension": ".py",
   "mimetype": "text/x-python",
   "name": "python",
   "nbconvert_exporter": "python",
   "pygments_lexer": "ipython3",
   "version": "3.11.6"
  }
 },
 "nbformat": 4,
 "nbformat_minor": 2
}
