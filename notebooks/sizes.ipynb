{
 "cells": [
  {
   "cell_type": "code",
   "execution_count": 1,
   "id": "1eea9da3-225b-4544-a6c1-b23900069be8",
   "metadata": {},
   "outputs": [],
   "source": [
    "import os\n",
    "import sys\n",
    "import numpy as np\n",
    "import matplotlib.pyplot as plt\n",
    "import pandas as pd"
   ]
  },
  {
   "cell_type": "code",
   "execution_count": 3,
   "id": "95ee37ed-5d54-43fc-8a09-4117a1b915d9",
   "metadata": {},
   "outputs": [],
   "source": [
    "config = {\n",
    "    \"dim\": 8192,\n",
    "    \"hidden_dim\": 28620,\n",
    "    \"n_layers\": 80,\n",
    "    \"n_heads\": 64,\n",
    "    \"n_kv_heads\": 8,\n",
    "    \"vocab_size\": 32000,\n",
    "    \"seq_len\": 2048,\n",
    "}\n"
   ]
  },
  {
   "cell_type": "code",
   "execution_count": null,
   "id": "15bbb271-8281-4f82-891a-725549d3fc30",
   "metadata": {},
   "outputs": [],
   "source": []
  }
 ],
 "metadata": {
  "kernelspec": {
   "display_name": "Python 3 (ipykernel)",
   "language": "python",
   "name": "python3"
  },
  "language_info": {
   "codemirror_mode": {
    "name": "ipython",
    "version": 3
   },
   "file_extension": ".py",
   "mimetype": "text/x-python",
   "name": "python",
   "nbconvert_exporter": "python",
   "pygments_lexer": "ipython3",
   "version": "3.10.7"
  }
 },
 "nbformat": 4,
 "nbformat_minor": 5
}
