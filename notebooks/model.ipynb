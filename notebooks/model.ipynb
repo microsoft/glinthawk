{
 "cells": [
  {
   "cell_type": "code",
   "execution_count": 1,
   "id": "b814bcab-ab4f-4210-9bfd-ce73849063cd",
   "metadata": {},
   "outputs": [],
   "source": [
    "import os\n",
    "import sys\n",
    "import numpy as np\n",
    "import pandas as pd\n",
    "import matplotlib.pyplot as plt\n",
    "import graphviz as gv\n",
    "import pint\n",
    "import pprint"
   ]
  },
  {
   "cell_type": "code",
   "execution_count": 2,
   "id": "1b14393a-fa24-4387-9b8f-998c4be77a5b",
   "metadata": {},
   "outputs": [
    {
     "name": "stdout",
     "output_type": "stream",
     "text": [
      "{'dim': 8192, 'n_layers': 80, 'parameters': 70000000000}\n",
      "{'flops': <Quantity(310, 'terahertz')>,\n",
      " 'mem': <Quantity(80, 'gibibyte')>,\n",
      " 'mem_bandwidth': <Quantity(2, 'tebibyte / second')>}\n"
     ]
    }
   ],
   "source": [
    "ur = pint.UnitRegistry()\n",
    "ur.setup_matplotlib(True)\n",
    "Q = ur.Quantity\n",
    "\n",
    "# parameters for the model\n",
    "model = {\n",
    "    'parameters': 70 * 10 ** 9,\n",
    "    'n_layers': 80,\n",
    "    'dim': 8192,\n",
    "}\n",
    "\n",
    "# parameters for the GPU\n",
    "compute = {\n",
    "    'mem': Q(80, 'GiB'),\n",
    "    'mem_bandwidth': Q(2, 'TiB/s'),\n",
    "    'flops': Q(310, 'THz')\n",
    "}\n",
    "\n",
    "# interconnect\n",
    "net = {\n",
    "    'bw': Q(5, 'Gbps'),\n",
    "}\n",
    "\n",
    "param_size = Q(2, 'bytes') # FP16\n",
    "\n",
    "pprint.pprint(model)\n",
    "pprint.pprint(compute)"
   ]
  },
  {
   "cell_type": "code",
   "execution_count": 3,
   "id": "7bb6e8cb-03f8-4fe4-9965-9b1d62338b98",
   "metadata": {},
   "outputs": [
    {
     "name": "stdout",
     "output_type": "stream",
     "text": [
      "[2, 4, 5, 8, 10, 16, 20, 40, 80]\n",
      "[<Quantity(0.131762458, 'gigabit / second')>, <Quantity(0.263524915, 'gigabit / second')>, <Quantity(0.329406144, 'gigabit / second')>, <Quantity(0.527049831, 'gigabit / second')>, <Quantity(0.658812288, 'gigabit / second')>, <Quantity(1.05409966, 'gigabit / second')>, <Quantity(1.31762458, 'gigabit / second')>, <Quantity(2.63524915, 'gigabit / second')>, <Quantity(5.27049831, 'gigabit / second')>]\n"
     ]
    },
    {
     "data": {
      "text/plain": [
       "<matplotlib.collections.PathCollection at 0x7f90b53dee90>"
      ]
     },
     "execution_count": 3,
     "metadata": {},
     "output_type": "execute_result"
    },
    {
     "data": {
      "image/png": "[encoded data removed]",
      "text/plain": [
       "<Figure size 640x480 with 1 Axes>"
      ]
     },
     "metadata": {},
     "output_type": "display_data"
    }
   ],
   "source": [
    "# let's say we want to split the task between N GPUs\n",
    "# how much bandwidth do we need to keep the GPUs busy?\n",
    "\n",
    "def bandwidth_required(N, batch_size=1):\n",
    "  assert model['n_layers'] % N == 0\n",
    "\n",
    "  model_slice_size = Q(2, 'bytes') * model['parameters'] / N \n",
    "  slice_processing_time = model_slice_size / compute['mem_bandwidth']\n",
    "\n",
    "  # making sure that we're still memory bound\n",
    "  assert (batch_size * (2 * model['parameters'] / N) / compute['flops']) < slice_processing_time\n",
    "\n",
    "  slice_output_size = model['dim'] * batch_size * param_size\n",
    "  mu = 1 / slice_processing_time\n",
    "  return (mu * slice_output_size).to('Gbit/s')\n",
    "\n",
    "# let's plot the bandwidth required for different numbers of GPUs\n",
    "Ns = [2, 4, 5, 8, 10, 16, 20, 40, 80]\n",
    "bandwidths = [bandwidth_required(N, batch_size=32) for N in Ns]\n",
    "\n",
    "print(Ns)\n",
    "print(bandwidths)\n",
    "plt.scatter(Ns, bandwidths)\n"
   ]
  },
  {
   "cell_type": "code",
   "execution_count": 7,
   "id": "d47c3ba9",
   "metadata": {},
   "outputs": [
    {
     "name": "stdout",
     "output_type": "stream",
     "text": [
      "15.916157281026244 millisecond 0.8388608000000002 millisecond\n"
     ]
    }
   ],
   "source": [
    "def bandwidth_required(N, batch_size=1):\n",
    "  assert model['n_layers'] % N == 0\n",
    "\n",
    "  model_slice_size = Q(2, 'bytes') * model['parameters'] / N \n",
    "  slice_processing_time = model_slice_size / compute['mem_bandwidth']\n",
    "\n",
    "  # making sure that we're still memory bound\n",
    "  assert (batch_size * (2 * model['parameters'] / N) / compute['flops']) < slice_processing_time\n",
    "\n",
    "  output_transmission_time = model['dim'] * batch_size * param_size / net['bw']\n",
    "\n",
    "  print(slice_processing_time.to('ms'), output_transmission_time.to('ms'))\n",
    "\n",
    "bandwidth_required(4, 32)"
   ]
  },
  {
   "cell_type": "code",
   "execution_count": null,
   "id": "0fc96d31",
   "metadata": {},
   "outputs": [],
   "source": []
  }
 ],
 "metadata": {
  "kernelspec": {
   "display_name": "Python 3 (ipykernel)",
   "language": "python",
   "name": "python3"
  },
  "language_info": {
   "codemirror_mode": {
    "name": "ipython",
    "version": 3
   },
   "file_extension": ".py",
   "mimetype": "text/x-python",
   "name": "python",
   "nbconvert_exporter": "python",
   "pygments_lexer": "ipython3",
   "version": "3.10.7"
  }
 },
 "nbformat": 4,
 "nbformat_minor": 5
}
